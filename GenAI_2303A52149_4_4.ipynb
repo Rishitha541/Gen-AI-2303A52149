{
  "nbformat": 4,
  "nbformat_minor": 0,
  "metadata": {
    "colab": {
      "provenance": [],
      "authorship_tag": "ABX9TyPOKhsdHXfMmzJ0fBKQBsu+",
      "include_colab_link": true
    },
    "kernelspec": {
      "name": "python3",
      "display_name": "Python 3"
    },
    "language_info": {
      "name": "python"
    }
  },
  "cells": [
    {
      "cell_type": "markdown",
      "metadata": {
        "id": "view-in-github",
        "colab_type": "text"
      },
      "source": [
        "<a href=\"https://colab.research.google.com/github/Rishitha541/Gen-AI-2303A52149/blob/main/GenAI_2303A52149_4_4.ipynb\" target=\"_parent\"><img src=\"https://colab.research.google.com/assets/colab-badge.svg\" alt=\"Open In Colab\"/></a>"
      ]
    },
    {
      "cell_type": "markdown",
      "source": [
        "# Question - 1"
      ],
      "metadata": {
        "id": "m-NtCOsOQywa"
      }
    },
    {
      "cell_type": "code",
      "execution_count": 12,
      "metadata": {
        "colab": {
          "base_uri": "https://localhost:8080/"
        },
        "id": "f7WkSedf-RtR",
        "outputId": "df04fa57-1391-4db2-a4b5-2f5eead3d979"
      },
      "outputs": [
        {
          "output_type": "stream",
          "name": "stdout",
          "text": [
            "Training MSE: 0.0000\n",
            "Testing MSE: 0.0000\n",
            "Enter x1: 0.1\n",
            "Enter x2: 0.2\n",
            "Enter x3: 0.3\n",
            "Predicted output: 0.1457\n"
          ]
        }
      ],
      "source": [
        "import numpy as np\n",
        "\n",
        "#Training data\n",
        "X_train = np.array([\n",
        "    [0.1, 0.2, 0.3],\n",
        "    [0.2, 0.3, 0.4],\n",
        "    [0.3, 0.4, 0.5],\n",
        "    [0.5, 0.6, 0.7],\n",
        "    [0.1, 0.3, 0.5],\n",
        "    [0.2, 0.4, 0.6],\n",
        "    [0.3, 0.5, 0.7],\n",
        "    [0.4, 0.6, 0.8],\n",
        "    [0.5, 0.7, 0.1]\n",
        "])\n",
        "Y_train = np.array([0.14, 0.20, 0.26, 0.38, 0.22, 0.28, 0.34, 0.40, 0.22])\n",
        "\n",
        "#Testing data\n",
        "X_test = np.array([\n",
        "    [0.6, 0.7, 0.8],\n",
        "    [0.7, 0.8, 0.9]\n",
        "])\n",
        "Y_test = np.array([0.44,0.50])\n",
        "\n",
        "# Random Initialization of weights and bias\n",
        "weights = np.random.rand(3)\n",
        "bias = np.random.rand(1)\n",
        "\n",
        "#Learning Rate\n",
        "learning_rate = 0.01\n",
        "\n",
        "# Training the ANN data\n",
        "def train(X, y, epochs):\n",
        "    global weights, bias\n",
        "    for epoch in range(epochs):\n",
        "        for i in range(len(X)):\n",
        "          # Forward pass\n",
        "            y_pred = np.dot(X[i], weights) + bias\n",
        "            #Error calculation\n",
        "            error = y[i] - y_pred\n",
        "            # Backward pass(Calculating Gradient Descent)\n",
        "            weights += learning_rate * error * X[i]\n",
        "            bias += learning_rate * error\n",
        "\n",
        "# Train the model\n",
        "train(X_train, Y_train, epochs=1000)\n",
        "\n",
        "# Function to calculate Mean Squared Error\n",
        "def mean_squared_error(X, y):\n",
        "    predictions = np.dot(X, weights) + bias\n",
        "    mse = np.mean((y - predictions) ** 2)\n",
        "    return mse\n",
        "\n",
        "# Calculate MSE for training and testing data\n",
        "train_mse = mean_squared_error(X_train, Y_train)\n",
        "test_mse = mean_squared_error(X_test, Y_test)\n",
        "\n",
        "print(f\"Training MSE: {train_mse:.4f}\")\n",
        "print(f\"Testing MSE: {test_mse:.4f}\")\n",
        "\n",
        "# Function to predict output for user input\n",
        "def predict(x1, x2, x3):\n",
        "    input_data = np.array([x1, x2, x3])\n",
        "    prediction = np.dot(input_data, weights) + bias\n",
        "    return prediction\n",
        "\n",
        "# User input for prediction\n",
        "x1 = float(input(\"Enter x1: \"))\n",
        "x2 = float(input(\"Enter x2: \"))\n",
        "x3 = float(input(\"Enter x3: \"))\n",
        "output = predict(x1, x2, x3)\n",
        "print(f\"Predicted output: {output[0]:.4f}\")"
      ]
    },
    {
      "cell_type": "markdown",
      "source": [
        "# Question - 2"
      ],
      "metadata": {
        "id": "XPe_CTmfRDaW"
      }
    },
    {
      "cell_type": "code",
      "source": [
        "import numpy as np\n",
        "\n",
        "# Training Data\n",
        "X_train = np.array([\n",
        "    [0.1, 0.2, 0.3],\n",
        "    [0.2, 0.3, 0.4],\n",
        "    [0.3, 0.4, 0.5],\n",
        "    [0.5, 0.6, 0.7],\n",
        "    [0.1, 0.3, 0.5],\n",
        "    [0.2, 0.4, 0.6],\n",
        "    [0.3, 0.5, 0.7],\n",
        "    [0.4, 0.6, 0.8],\n",
        "    [0.5, 0.7, 0.1]\n",
        "])\n",
        "y_train = np.array([0.5349,0.5498,0.5646,0.5939,0.5548,0.5695,0.5842,0.5987,0.5548])\n",
        "\n",
        "# Test Data\n",
        "X_test = np.array([\n",
        "    [0.6, 0.7, 0.8],\n",
        "    [0.7, 0.8, 0.9]\n",
        "])\n",
        "y_test = np.array([0.6083,0.6225])\n",
        "\n",
        "# Initialize weights and bias\n",
        "weights = np.random.rand(3)  # 3 inputs\n",
        "bias = np.random.rand(1)\n",
        "\n",
        "# Learning rate\n",
        "learning_rate = 0.01\n",
        "\n",
        "# Training the ANN\n",
        "def train(X, y, epochs):\n",
        "    global weights, bias\n",
        "    for epoch in range(epochs):\n",
        "        for i in range(len(X)):\n",
        "            # Forward pass\n",
        "            y_pred = np.dot(X[i], weights) + bias\n",
        "\n",
        "            # Calculate error\n",
        "            error = y[i] - y_pred\n",
        "\n",
        "            # Backward pass (gradient descent)\n",
        "            weights += learning_rate * error * X[i]\n",
        "            bias += learning_rate * error\n",
        "\n",
        "# Train the model\n",
        "train(X_train, y_train, epochs=1000)\n",
        "\n",
        "# Function to calculate Mean Squared Error\n",
        "def mean_squared_error(X, y):\n",
        "    predictions = np.dot(X, weights) + bias\n",
        "    mse = np.mean((y - predictions) ** 2)\n",
        "    return mse\n",
        "\n",
        "# Calculate MSE for training and testing data\n",
        "train_mse = mean_squared_error(X_train, y_train)\n",
        "test_mse = mean_squared_error(X_test, y_test)\n",
        "\n",
        "print(f\"Training MSE: {train_mse:.4f}\")\n",
        "print(f\"Testing MSE: {test_mse:.4f}\")\n",
        "\n",
        "# Function to predict output for user input\n",
        "def predict(x1, x2, x3):\n",
        "    input_data = np.array([x1, x2, x3])\n",
        "    prediction = np.dot(input_data, weights) + bias\n",
        "    return prediction\n",
        "\n",
        "# User input for prediction\n",
        "x1 = float(input(\"Enter x1: \"))\n",
        "x2 = float(input(\"Enter x2: \"))\n",
        "x3 = float(input(\"Enter x3: \"))\n",
        "output = predict(x1, x2, x3)\n",
        "print(f\"Predicted output: {output[0]:.4f}\")"
      ],
      "metadata": {
        "colab": {
          "base_uri": "https://localhost:8080/"
        },
        "id": "yP0ZAv8MQx2x",
        "outputId": "a54d345e-bccb-429f-e34e-f85613a99af8"
      },
      "execution_count": 15,
      "outputs": [
        {
          "output_type": "stream",
          "name": "stdout",
          "text": [
            "Training MSE: 0.0001\n",
            "Testing MSE: 0.0010\n",
            "Enter x1: 0.7\n",
            "Enter x2: 0.8\n",
            "Enter x3: 0.9\n",
            "Predicted output: 0.6563\n"
          ]
        }
      ]
    }
  ]
}