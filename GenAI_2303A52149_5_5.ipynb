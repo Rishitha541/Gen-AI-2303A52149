{
  "nbformat": 4,
  "nbformat_minor": 0,
  "metadata": {
    "colab": {
      "provenance": [],
      "authorship_tag": "ABX9TyOL0jxGPkXwAkm7AhnfPG1R",
      "include_colab_link": true
    },
    "kernelspec": {
      "name": "python3",
      "display_name": "Python 3"
    },
    "language_info": {
      "name": "python"
    }
  },
  "cells": [
    {
      "cell_type": "markdown",
      "metadata": {
        "id": "view-in-github",
        "colab_type": "text"
      },
      "source": [
        "<a href=\"https://colab.research.google.com/github/Rishitha541/Gen-AI-2303A52149/blob/main/GenAI_2303A52149_5_5.ipynb\" target=\"_parent\"><img src=\"https://colab.research.google.com/assets/colab-badge.svg\" alt=\"Open In Colab\"/></a>"
      ]
    },
    {
      "cell_type": "code",
      "source": [
        "import numpy as np\n",
        "\n",
        "def sigmoid(x):\n",
        "    return 1 / (1 + np.exp(-x))\n",
        "\n",
        "def sigmoid_derivative(x):\n",
        "    return x * (1 - x)\n",
        "\n",
        "def linear(x):\n",
        "    return x\n",
        "\n",
        "def linear_derivative(x):\n",
        "    return 1\n",
        "\n",
        "class ANN:\n",
        "    def __init__(self, input_size, hidden_size, output_size, learning_rate=0.01):\n",
        "        self.input_size = input_size\n",
        "        self.hidden_size = hidden_size\n",
        "        self.output_size = output_size\n",
        "        self.learning_rate = learning_rate\n",
        "\n",
        "        self.W1 = np.random.randn(self.input_size, self.hidden_size)\n",
        "        self.b1 = np.zeros((1, self.hidden_size))\n",
        "        self.W2 = np.random.randn(self.hidden_size, self.output_size)\n",
        "        self.b2 = np.zeros((1, self.output_size))\n",
        "\n",
        "    def forward(self, X):\n",
        "        self.Z1 = np.dot(X, self.W1) + self.b1\n",
        "        self.A1 = sigmoid(self.Z1)\n",
        "        self.Z2 = np.dot(self.A1, self.W2) + self.b2\n",
        "        self.A2 = linear(self.Z2)\n",
        "        return self.A2\n",
        "\n",
        "    def backward(self, X, y, output):\n",
        "        output_error = output - y\n",
        "        output_delta = output_error * linear_derivative(output)\n",
        "\n",
        "        hidden_error = np.dot(output_delta, self.W2.T)\n",
        "        hidden_delta = hidden_error * sigmoid_derivative(self.A1)\n",
        "\n",
        "        self.W2 -= self.learning_rate * np.dot(self.A1.T, output_delta)\n",
        "        self.b2 -= self.learning_rate * np.sum(output_delta, axis=0, keepdims=True)\n",
        "        self.W1 -= self.learning_rate * np.dot(X.T, hidden_delta)\n",
        "        self.b1 -= self.learning_rate * np.sum(hidden_delta, axis=0, keepdims=True)\n",
        "\n",
        "    def train(self, X, y, epochs):\n",
        "        for epoch in range(epochs):\n",
        "            output = self.forward(X)\n",
        "            self.backward(X, y, output)\n",
        "\n",
        "    def predict(self, X):\n",
        "        return self.forward(X)\n",
        "\n",
        "    def mean_squared_error(self, y_true, y_pred):\n",
        "        return np.mean(np.square(y_true - y_pred))\n",
        "\n",
        "X_train = np.array([[0.1, 0.2], [0.2, 0.3], [0.3, 0.4], [0.6, 0.7], [0.7, 0.8], [0.8, 0.9]])\n",
        "y_train = np.array([[0.3432], [0.3490], [0.3548], [0.3720], [0.3776], [0.3832]])\n",
        "\n",
        "X_test = np.array([[0.4, 0.5], [0.5, 0.6]])\n",
        "y_test = np.array([[0.3606], [0.3663]])\n",
        "\n",
        "input_size = 2\n",
        "hidden_size = 3\n",
        "output_size = 1\n",
        "learning_rate = 0.01\n",
        "epochs = 10000\n",
        "\n",
        "ann = ANN(input_size, hidden_size, output_size, learning_rate)\n",
        "ann.train(X_train, y_train, epochs)\n",
        "\n",
        "y_train_pred = ann.predict(X_train)\n",
        "y_test_pred = ann.predict(X_test)\n",
        "\n",
        "mse_train = ann.mean_squared_error(y_train, y_train_pred)\n",
        "mse_test = ann.mean_squared_error(y_test, y_test_pred)\n",
        "\n",
        "print(\"Mean Squared Error on Training Data:\", mse_train)\n",
        "print(\"Mean Squared Error on Test Data:\", mse_test)\n",
        "\n",
        "def predict_user_input(x1, x2):\n",
        "    input_data = np.array([[x1, x2]])\n",
        "    prediction = ann.predict(input_data)\n",
        "    return prediction\n",
        "\n",
        "x1 = float(input(\"Enter x1: \"))\n",
        "x2 = float(input(\"Enter x2: \"))\n",
        "output = predict_user_input(x1, x2)\n",
        "print(\"Predicted output:\", output)\n"
      ],
      "metadata": {
        "colab": {
          "base_uri": "https://localhost:8080/"
        },
        "id": "0-KYXjNoVdcu",
        "outputId": "dcfd8afa-6eb7-4199-9f1f-65ec75849202"
      },
      "execution_count": 1,
      "outputs": [
        {
          "output_type": "stream",
          "name": "stdout",
          "text": [
            "Mean Squared Error on Training Data: 3.039847217352852e-09\n",
            "Mean Squared Error on Test Data: 1.1138561817572023e-08\n",
            "Enter x1: 0.1\n",
            "Enter x2: 0.2\n",
            "Predicted output: [[0.34325657]]\n"
          ]
        }
      ]
    }
  ]
}