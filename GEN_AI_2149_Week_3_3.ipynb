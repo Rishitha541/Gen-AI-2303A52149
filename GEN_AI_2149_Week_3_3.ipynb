{
  "nbformat": 4,
  "nbformat_minor": 0,
  "metadata": {
    "colab": {
      "provenance": [],
      "authorship_tag": "ABX9TyNc4XwJNe01Ro9GyLYsBVtc",
      "include_colab_link": true
    },
    "kernelspec": {
      "name": "python3",
      "display_name": "Python 3"
    },
    "language_info": {
      "name": "python"
    }
  },
  "cells": [
    {
      "cell_type": "markdown",
      "metadata": {
        "id": "view-in-github",
        "colab_type": "text"
      },
      "source": [
        "<a href=\"https://colab.research.google.com/github/Rishitha541/Gen-AI-2303A52149/blob/main/GEN_AI_2149_Week_3_3.ipynb\" target=\"_parent\"><img src=\"https://colab.research.google.com/assets/colab-badge.svg\" alt=\"Open In Colab\"/></a>"
      ]
    },
    {
      "cell_type": "markdown",
      "source": [
        "Question - 01"
      ],
      "metadata": {
        "id": "qOeSBhOTJm6I"
      }
    },
    {
      "cell_type": "code",
      "source": [
        "def f(x):\n",
        "    return 5*x**4 + 3*x**2 + 10\n",
        "\n",
        "def df(x):\n",
        "    return 20*x**3 + 6*x\n",
        "\n",
        "def gradient_descent(learning_rate, max_iterations, tolerance):\n",
        "    x = 0\n",
        "    for i in range(max_iterations):\n",
        "        gradient = df(x)\n",
        "        new_x = x - learning_rate * gradient\n",
        "\n",
        "        if abs(new_x - x) < tolerance:\n",
        "            break\n",
        "\n",
        "        x = new_x\n",
        "\n",
        "    return x\n",
        "\n",
        "learning_rate = 0.01\n",
        "max_iterations = 10000\n",
        "tolerance = 1e-6\n",
        "\n",
        "min_x = gradient_descent(learning_rate, max_iterations, tolerance)\n",
        "min_value = f(min_x)\n",
        "\n",
        "print(\"The value of x that minimizes f(x):\", min_x)\n",
        "print(\"The minimum value of f(x):\", min_value)"
      ],
      "metadata": {
        "colab": {
          "base_uri": "https://localhost:8080/"
        },
        "id": "AIPovCl_Dgyk",
        "outputId": "d61d74c3-2946-478b-9a75-ff0b6e3681d8"
      },
      "execution_count": null,
      "outputs": [
        {
          "output_type": "stream",
          "name": "stdout",
          "text": [
            "The value of x that minimizes f(x): 0\n",
            "The minimum value of f(x): 10\n"
          ]
        }
      ]
    },
    {
      "cell_type": "markdown",
      "source": [
        "Question - 02"
      ],
      "metadata": {
        "id": "OFXavTiHJqsj"
      }
    },
    {
      "cell_type": "code",
      "source": [
        "def g(x, y):\n",
        "    return 3*x**2 + 5*math.exp(-y) + 10\n",
        "\n",
        "def dg_dx(x, y):\n",
        "    return 6*x\n",
        "\n",
        "def dg_dy(x, y):\n",
        "    return -(5 * math.exp(-y))\n",
        "\n",
        "def gradient_descent(learning_rate, max_iterations, tolerance):\n",
        "    x, y = 0.0, 0.0\n",
        "    for i in range(max_iterations):\n",
        "        new_x = x - learning_rate * dg_dx(x, y)\n",
        "        new_y = y - learning_rate * dg_dy(x, y)\n",
        "        if abs(new_x - x) < tolerance and abs(new_y - y) < tolerance:\n",
        "            break\n",
        "        x, y = new_x, new_y\n",
        "    return x, y\n",
        "\n",
        "learning_rate = 0.01\n",
        "max_iterations = 10000\n",
        "tolerance = 1e-6\n",
        "\n",
        "min_x, min_y = gradient_descent(learning_rate, max_iterations, tolerance)\n",
        "min_value = g(min_x, min_y)\n",
        "\n",
        "print(\"The value of x that minimizes g(x, y):\", min_x)\n",
        "print(\"The value of y that minimizes g(x, y):\", min_y)\n",
        "print(\"The minimum value of g(x, y):\", min_value)"
      ],
      "metadata": {
        "colab": {
          "base_uri": "https://localhost:8080/"
        },
        "id": "IzB000tDELfD",
        "outputId": "83e2a9a2-0f63-4dff-92ef-a9f16e7a5dd5"
      },
      "execution_count": null,
      "outputs": [
        {
          "output_type": "stream",
          "name": "stdout",
          "text": [
            "The value of x that minimizes g(x, y): 0.0\n",
            "The value of y that minimizes g(x, y): 6.2169171241740475\n",
            "The minimum value of g(x, y): 10.009976936379974\n"
          ]
        }
      ]
    },
    {
      "cell_type": "markdown",
      "source": [
        "Question - 03"
      ],
      "metadata": {
        "id": "USjeNya7JvBG"
      }
    },
    {
      "cell_type": "code",
      "source": [
        "def z(x):\n",
        "    return 1 / (1 + 2.71828**(-x))\n",
        "\n",
        "def z_prime(x):\n",
        "    sigmoid = z(x)\n",
        "    return sigmoid * (1 - sigmoid)\n",
        "\n",
        "def gradient_descent(alpha, max_iterations, tolerance):\n",
        "    x = 0.0\n",
        "    for i in range(max_iterations):\n",
        "        grad = z_prime(x)\n",
        "        new_x = x - alpha * grad\n",
        "\n",
        "        if abs(new_x - x) < tolerance:\n",
        "            break\n",
        "\n",
        "        x = new_x\n",
        "\n",
        "    return x, z(x), i+1\n",
        "\n",
        "learning_rate = 0.01\n",
        "max_iter = 10000\n",
        "tolerance = 1e-6\n",
        "\n",
        "x_min, z_min, iterations = gradient_descent(learning_rate, max_iter, tolerance)\n",
        "\n",
        "print(f\"Minimum value of z(x) is approximately at x = {x_min}\")\n",
        "print(f\"Minimum value of z(x) is approximately {z_min}\")\n",
        "print(f\"Number of iterations: {iterations}\")"
      ],
      "metadata": {
        "colab": {
          "base_uri": "https://localhost:8080/"
        },
        "id": "YRepcZsWIYUx",
        "outputId": "dab568b0-7812-4ec6-ff17-c4679b0dfbf1"
      },
      "execution_count": null,
      "outputs": [
        {
          "output_type": "stream",
          "name": "stdout",
          "text": [
            "Minimum value of z(x) is approximately at x = -4.510915611762466\n",
            "Minimum value of z(x) is approximately 0.010868994644076176\n",
            "Number of iterations: 10000\n"
          ]
        }
      ]
    },
    {
      "cell_type": "markdown",
      "source": [
        "Question - 04"
      ],
      "metadata": {
        "id": "xIK1bzUQJxYK"
      }
    },
    {
      "cell_type": "code",
      "source": [
        "M = 0.0\n",
        "C = 0.0\n",
        "learning_rate = 0.01\n",
        "iterations = 1000\n",
        "input_value = 2\n",
        "expected_output = 0.5\n",
        "\n",
        "for i in range(iterations):\n",
        "\n",
        "    predicted_output = M * input_value + C\n",
        "\n",
        "    SE = (expected_output - predicted_output) ** 2\n",
        "\n",
        "    dM = -2 * input_value * (expected_output - predicted_output)\n",
        "    dC = -2 * (expected_output - predicted_output)\n",
        "\n",
        "    M -= learning_rate * dM\n",
        "    C -= learning_rate * dC\n",
        "\n",
        "    if i % 100 == 0:\n",
        "        print(f\"Iteration {i}: SE = {SE:.6f}, M = {M:.4f}, C = {C:.4f}\")\n",
        "\n",
        "print(f\"Optimized M = {M:.4f}, Optimized C = {C:.4f}\")"
      ],
      "metadata": {
        "colab": {
          "base_uri": "https://localhost:8080/"
        },
        "id": "hHg5I_9LIvHm",
        "outputId": "f73848fa-2ea4-47b9-e1d2-e97d41a44ba2"
      },
      "execution_count": null,
      "outputs": [
        {
          "output_type": "stream",
          "name": "stdout",
          "text": [
            "Iteration 0: SE = 0.250000, M = 0.0200, C = 0.0100\n",
            "Iteration 100: SE = 0.000000, M = 0.2000, C = 0.1000\n",
            "Iteration 200: SE = 0.000000, M = 0.2000, C = 0.1000\n",
            "Iteration 300: SE = 0.000000, M = 0.2000, C = 0.1000\n",
            "Iteration 400: SE = 0.000000, M = 0.2000, C = 0.1000\n",
            "Iteration 500: SE = 0.000000, M = 0.2000, C = 0.1000\n",
            "Iteration 600: SE = 0.000000, M = 0.2000, C = 0.1000\n",
            "Iteration 700: SE = 0.000000, M = 0.2000, C = 0.1000\n",
            "Iteration 800: SE = 0.000000, M = 0.2000, C = 0.1000\n",
            "Iteration 900: SE = 0.000000, M = 0.2000, C = 0.1000\n",
            "Optimized M = 0.2000, Optimized C = 0.1000\n"
          ]
        }
      ]
    }
  ]
}